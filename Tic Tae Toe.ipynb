{
 "cells": [
  {
   "cell_type": "code",
   "execution_count": null,
   "metadata": {},
   "outputs": [],
   "source": [
    "b=[\" \",\" \",\" \",\" \",\" \",\" \",\" \",\" \",\" \"]\n",
    "positions=[1,2,3,4,5,6,7,8,9]\n",
    "posub=[]\n",
    "tie=False"
   ]
  },
  {
   "cell_type": "code",
   "execution_count": null,
   "metadata": {},
   "outputs": [],
   "source": [
    "from IPython.display import clear_output"
   ]
  },
  {
   "cell_type": "code",
   "execution_count": null,
   "metadata": {},
   "outputs": [],
   "source": [
    "def win():\n",
    "    global winning,tie\n",
    "    if(b[0]==b[1]==b[2]=='X' or b[3]==b[4]==b[5]=='X' or b[6]==b[7]==b[8]=='X' or b[0]==b[4]==b[8]=='X' or b[2]==b[4]==b[6]=='X' or b[0]==b[3]==b[6]==\"X\" or b[1]==b[4]==b[7]==\"X\" or b[2]==b[5]==b[8]==\"X\" or b[0]==b[1]==b[2]=='O' or b[3]==b[4]==b[5]=='O' or b[6]==b[7]==b[8]=='O' or b[0]==b[4]==b[8]=='O' or b[2]==b[4]==b[6]=='O' or b[0]==b[3]==b[6]==\"O\" or b[1]==b[4]==b[7]==\"O\" or b[2]==b[5]==b[8]==\"O\"):\n",
    "        winning=True\n",
    "        print(\"Match won\")\n",
    "    else:\n",
    "        winning=False\n",
    "    if(b[0]!=\" \" and b[1]!=\" \" and b[2]!=\" \" and b[3]!=\" \" and b[4]!=\" \" and b[5]!=\" \" and b[6]!=\" \" and b[7]!=\" \" and b[8]!=\" \"):\n",
    "        print(\"Match Tie\")\n",
    "        tie=True"
   ]
  },
  {
   "cell_type": "code",
   "execution_count": null,
   "metadata": {},
   "outputs": [],
   "source": [
    "def display_board():\n",
    "    global b1,b2,b3,b4,b5,b6,b7,b8,b9\n",
    "    print(\"   |   |   \")\n",
    "    print(f\" {b[0]} | {b[1]} | {b[2]} \")\n",
    "    print(\"___|___|___\")\n",
    "    print(\"   |   |   \")\n",
    "    print(f\" {b[3]} | {b[4]} | {b[5]} \")\n",
    "    print(\"___|___|___\")\n",
    "    print(\"   |   |   \")\n",
    "    print(f\" {b[6]} | {b[7]} | {b[8]} \")\n",
    "    print(\"   |   |   \")"
   ]
  },
  {
   "cell_type": "code",
   "execution_count": null,
   "metadata": {},
   "outputs": [],
   "source": [
    "sym=['X','O']"
   ]
  },
  {
   "cell_type": "code",
   "execution_count": null,
   "metadata": {},
   "outputs": [],
   "source": [
    "print(\"Welcome to Aakhil's Tic Tac Toe vibes\")\n",
    "case1=False\n",
    "case2=False\n",
    "winning=False\n",
    "p1=[]\n",
    "p2=[]\n",
    "casenum=1\n",
    "while(case1==False):\n",
    "    symbol=input(\"Player 1: Do you want to be X or O:- \")\n",
    "    if symbol not in sym:\n",
    "        case1=False\n",
    "        print(\"Sorry,Invalid symbol!!!\")\n",
    "    else:\n",
    "        case1=True\n",
    "if symbol==\"X\":\n",
    "    print(\"Player 1 is X and Player 2 is O\")\n",
    "    print(\"Player 1 plays first!!!\")\n",
    "else:\n",
    "    print(\"Player 2 is X and Player 1 is O\")\n",
    "    print(\"Player 2 plays first!!!\")\n",
    "display_board()\n",
    "while(winning==False):\n",
    "    while(case2==False):\n",
    "        pos=int(input(\"Choose the position 1-9\"))\n",
    "        if (pos in positions) and (pos not in posub):\n",
    "            case2=True\n",
    "            if casenum%2==0:\n",
    "                b[pos-1]='O'\n",
    "            else:\n",
    "                b[pos-1]='X'\n",
    "        else:\n",
    "            print(\"Sorry, please type an available integer from 1 to 9\")\n",
    "            case2=False\n",
    "        posub.append(pos)\n",
    "    casenum=casenum+1\n",
    "    case2=False\n",
    "    clear_output()\n",
    "    display_board()\n",
    "    win()\n",
    "    if winning ==True:\n",
    "        print(\"Congratulations!!! You won the game\")\n",
    "    if tie==True:\n",
    "        winning=True"
   ]
  }
 ],
 "metadata": {
  "kernelspec": {
   "display_name": "Python 3",
   "language": "python",
   "name": "python3"
  },
  "language_info": {
   "codemirror_mode": {
    "name": "ipython",
    "version": 3
   },
   "file_extension": ".py",
   "mimetype": "text/x-python",
   "name": "python",
   "nbconvert_exporter": "python",
   "pygments_lexer": "ipython3",
   "version": "3.7.4"
  }
 },
 "nbformat": 4,
 "nbformat_minor": 2
}
